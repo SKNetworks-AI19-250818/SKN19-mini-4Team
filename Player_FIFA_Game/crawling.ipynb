{
 "cells": [
  {
   "cell_type": "code",
   "execution_count": 19,
   "id": "5358e60a",
   "metadata": {},
   "outputs": [],
   "source": [
    "import time\n",
    "import pandas as pd\n",
    "from selenium import webdriver\n",
    "from selenium.webdriver.common.by import By\n",
    "from selenium.webdriver.support.ui import Select\n",
    "from selenium.webdriver.chrome.service import Service\n",
    "from selenium.webdriver.chrome.options import Options\n",
    "from selenium.common.exceptions import NoSuchElementException\n",
    "from selenium.webdriver.common.keys import Keys"
   ]
  },
  {
   "cell_type": "code",
   "execution_count": 35,
   "id": "d963bf5b",
   "metadata": {},
   "outputs": [],
   "source": [
    "# 데이터 불러오기\n",
    "df = pd.read_csv('./data/worldcup_player.csv')  # 기존 데이터셋\n",
    "df['fifa_score'] = None  # 점수 컬럼 추가"
   ]
  },
  {
   "cell_type": "code",
   "execution_count": 36,
   "id": "211560e5",
   "metadata": {},
   "outputs": [
    {
     "data": {
      "text/html": [
       "<div>\n",
       "<style scoped>\n",
       "    .dataframe tbody tr th:only-of-type {\n",
       "        vertical-align: middle;\n",
       "    }\n",
       "\n",
       "    .dataframe tbody tr th {\n",
       "        vertical-align: top;\n",
       "    }\n",
       "\n",
       "    .dataframe thead th {\n",
       "        text-align: right;\n",
       "    }\n",
       "</style>\n",
       "<table border=\"1\" class=\"dataframe\">\n",
       "  <thead>\n",
       "    <tr style=\"text-align: right;\">\n",
       "      <th></th>\n",
       "      <th>년도</th>\n",
       "      <th>국가</th>\n",
       "      <th>포지션</th>\n",
       "      <th>등번호</th>\n",
       "      <th>한글 성명</th>\n",
       "      <th>로마자 성명</th>\n",
       "      <th>생년월일</th>\n",
       "      <th>소속팀</th>\n",
       "      <th>fifa_score</th>\n",
       "    </tr>\n",
       "  </thead>\n",
       "  <tbody>\n",
       "    <tr>\n",
       "      <th>0</th>\n",
       "      <td>2002</td>\n",
       "      <td>세네갈</td>\n",
       "      <td>GK</td>\n",
       "      <td>1</td>\n",
       "      <td>토니 실바</td>\n",
       "      <td>Tony Sylva</td>\n",
       "      <td>1975.05.17</td>\n",
       "      <td>AS 모나코</td>\n",
       "      <td>None</td>\n",
       "    </tr>\n",
       "    <tr>\n",
       "      <th>1</th>\n",
       "      <td>2002</td>\n",
       "      <td>세네갈</td>\n",
       "      <td>GK</td>\n",
       "      <td>16</td>\n",
       "      <td>오마르 디알로</td>\n",
       "      <td>Omar Diallo</td>\n",
       "      <td>1972.09.28</td>\n",
       "      <td>올랭피크 쿠리브가</td>\n",
       "      <td>None</td>\n",
       "    </tr>\n",
       "    <tr>\n",
       "      <th>2</th>\n",
       "      <td>2002</td>\n",
       "      <td>세네갈</td>\n",
       "      <td>GK</td>\n",
       "      <td>22</td>\n",
       "      <td>칼리두 시소코</td>\n",
       "      <td>Kalidou Cissokho</td>\n",
       "      <td>1978.08.28</td>\n",
       "      <td>ASC 잔다르크</td>\n",
       "      <td>None</td>\n",
       "    </tr>\n",
       "    <tr>\n",
       "      <th>3</th>\n",
       "      <td>2002</td>\n",
       "      <td>세네갈</td>\n",
       "      <td>DF</td>\n",
       "      <td>2</td>\n",
       "      <td>오마르 다프</td>\n",
       "      <td>Omar Daf</td>\n",
       "      <td>1977.02.12</td>\n",
       "      <td>FC 소쇼</td>\n",
       "      <td>None</td>\n",
       "    </tr>\n",
       "    <tr>\n",
       "      <th>4</th>\n",
       "      <td>2002</td>\n",
       "      <td>세네갈</td>\n",
       "      <td>DF</td>\n",
       "      <td>4</td>\n",
       "      <td>파페 말리크 디오프</td>\n",
       "      <td>Pape Malick Diop</td>\n",
       "      <td>1974.12.29</td>\n",
       "      <td>FC 로리앙</td>\n",
       "      <td>None</td>\n",
       "    </tr>\n",
       "    <tr>\n",
       "      <th>...</th>\n",
       "      <td>...</td>\n",
       "      <td>...</td>\n",
       "      <td>...</td>\n",
       "      <td>...</td>\n",
       "      <td>...</td>\n",
       "      <td>...</td>\n",
       "      <td>...</td>\n",
       "      <td>...</td>\n",
       "      <td>...</td>\n",
       "    </tr>\n",
       "    <tr>\n",
       "      <th>4506</th>\n",
       "      <td>2014</td>\n",
       "      <td>브라질</td>\n",
       "      <td>FW</td>\n",
       "      <td>7</td>\n",
       "      <td>헐크</td>\n",
       "      <td>Hulk</td>\n",
       "      <td>1986.07.25</td>\n",
       "      <td>FC 제니트 상트페테르부르크</td>\n",
       "      <td>None</td>\n",
       "    </tr>\n",
       "    <tr>\n",
       "      <th>4507</th>\n",
       "      <td>2014</td>\n",
       "      <td>브라질</td>\n",
       "      <td>FW</td>\n",
       "      <td>9</td>\n",
       "      <td>프레드</td>\n",
       "      <td>Fred</td>\n",
       "      <td>1983.10.03</td>\n",
       "      <td>플루미넨시 FC</td>\n",
       "      <td>None</td>\n",
       "    </tr>\n",
       "    <tr>\n",
       "      <th>4508</th>\n",
       "      <td>2014</td>\n",
       "      <td>브라질</td>\n",
       "      <td>FW</td>\n",
       "      <td>10</td>\n",
       "      <td>네이마르 주니오르</td>\n",
       "      <td>Neymar</td>\n",
       "      <td>1992.02.05</td>\n",
       "      <td>FC 바르셀로나</td>\n",
       "      <td>None</td>\n",
       "    </tr>\n",
       "    <tr>\n",
       "      <th>4509</th>\n",
       "      <td>2014</td>\n",
       "      <td>브라질</td>\n",
       "      <td>FW</td>\n",
       "      <td>20</td>\n",
       "      <td>베르나르드</td>\n",
       "      <td>Bernard</td>\n",
       "      <td>1992.09.08</td>\n",
       "      <td>FC 샤흐타르 도네츠크</td>\n",
       "      <td>None</td>\n",
       "    </tr>\n",
       "    <tr>\n",
       "      <th>4510</th>\n",
       "      <td>2014</td>\n",
       "      <td>브라질</td>\n",
       "      <td>FW</td>\n",
       "      <td>21</td>\n",
       "      <td>조</td>\n",
       "      <td>Jô</td>\n",
       "      <td>1987.03.20</td>\n",
       "      <td>아틀레치쿠 미네이루</td>\n",
       "      <td>None</td>\n",
       "    </tr>\n",
       "  </tbody>\n",
       "</table>\n",
       "<p>4511 rows × 9 columns</p>\n",
       "</div>"
      ],
      "text/plain": [
       "        년도   국가 포지션  등번호       한글 성명            로마자 성명        생년월일  \\\n",
       "0     2002  세네갈  GK    1       토니 실바        Tony Sylva  1975.05.17   \n",
       "1     2002  세네갈  GK   16     오마르 디알로       Omar Diallo  1972.09.28   \n",
       "2     2002  세네갈  GK   22     칼리두 시소코  Kalidou Cissokho  1978.08.28   \n",
       "3     2002  세네갈  DF    2      오마르 다프          Omar Daf  1977.02.12   \n",
       "4     2002  세네갈  DF    4  파페 말리크 디오프  Pape Malick Diop  1974.12.29   \n",
       "...    ...  ...  ..  ...         ...               ...         ...   \n",
       "4506  2014  브라질  FW    7          헐크              Hulk  1986.07.25   \n",
       "4507  2014  브라질  FW    9         프레드              Fred  1983.10.03   \n",
       "4508  2014  브라질  FW   10   네이마르 주니오르            Neymar  1992.02.05   \n",
       "4509  2014  브라질  FW   20       베르나르드           Bernard  1992.09.08   \n",
       "4510  2014  브라질  FW   21           조                Jô  1987.03.20   \n",
       "\n",
       "                   소속팀 fifa_score  \n",
       "0               AS 모나코       None  \n",
       "1            올랭피크 쿠리브가       None  \n",
       "2             ASC 잔다르크       None  \n",
       "3                FC 소쇼       None  \n",
       "4               FC 로리앙       None  \n",
       "...                ...        ...  \n",
       "4506   FC 제니트 상트페테르부르크       None  \n",
       "4507          플루미넨시 FC       None  \n",
       "4508          FC 바르셀로나       None  \n",
       "4509      FC 샤흐타르 도네츠크       None  \n",
       "4510        아틀레치쿠 미네이루       None  \n",
       "\n",
       "[4511 rows x 9 columns]"
      ]
     },
     "execution_count": 36,
     "metadata": {},
     "output_type": "execute_result"
    }
   ],
   "source": [
    "df"
   ]
  },
  {
   "cell_type": "code",
   "execution_count": null,
   "id": "b8af24fb",
   "metadata": {},
   "outputs": [],
   "source": [
    "\n",
    "\n",
    "# Selenium 설정\n",
    "options = Options()\n",
    "options.add_argument(\"--headless\")  # 브라우저 안띄우기\n",
    "driver = webdriver.Chrome(options=options)\n",
    "\n",
    "# FIFA 버전 매핑\n",
    "fifa_version_map = {\n",
    "    2022: '21',\n",
    "    2018: '17',\n",
    "    2014: '13',\n",
    "    2010: '09',\n",
    "    2006: '07'\n",
    "}\n",
    "\n",
    "features = ['속도 / 다이빙',\n",
    "'슛 / 핸들링',\n",
    "'패스 / 킥',\n",
    "'드리블 / 반응속도',\n",
    "'수비 / 속도',\n",
    "'피지컬 / 위치선정']\n",
    "\n",
    "driver = webdriver.Chrome()\n",
    "driver.get(f'https://sofifa.com/?hl=ko-KR')\n",
    "time.sleep(2)\n",
    "element=driver.find_element(By.CSS_SELECTOR,'div.choices.choices-multiple')\n",
    "element.click()\n",
    "search_box=driver.find_element(By.CSS_SELECTOR,'input.choices-input.choices-input-cloned')\n",
    "for i in features:\n",
    "    search_box.send_keys(i)\n",
    "    search_box.send_keys(Keys.ENTER)\n",
    "element = driver.find_element(By.TAG_NAME, \"body\")  # body에 보내도 됨\n",
    "element.send_keys(Keys.ESCAPE)\n",
    "button = driver.find_element(By.XPATH,'//*[@id=\"body\"]/main[1]/aside/form[1]/div[2]/div/button')\n",
    "button.click()\n",
    "prev=0\n",
    "for idx, row in df.iterrows():\n",
    "    year = row['년도']\n",
    "    if year == 2002:\n",
    "        df.at[idx, 'fifa_score'] = None\n",
    "        continue\n",
    "    player_name = row['로마자 성명']\n",
    "    # FIFA 버전 선택 (드롭다운)\n",
    "    if year in fifa_version_map and prev!=year:\n",
    "        try:\n",
    "            select = Select(driver.find_element(By.ID, 'select-version'))\n",
    "            select.select_by_visible_text(\"FIFA \"+fifa_version_map[year])\n",
    "            time.sleep(1)  # 선택 후 로딩 대기\n",
    "            prev = year\n",
    "        except NoSuchElementException:\n",
    "            pass\n",
    "    name_box=driver.find_element(By.CSS_SELECTOR,'input.choices-input.choices-input-cloned')    \n",
    "    name_box.send_keys(row['로마자 성명'])\n",
    "    name_box.send_keys(Keys.ENTER)\n",
    "    time.sleep(0.2)  # 페이지 로딩 대기\n",
    "    # 첫 번째 검색 결과 가져오기\n",
    "    # try:\n",
    "    #     rating = driver.find_element(By.XPATH, '//*[@id=\"body\"]/main[1]/article/table').text\n",
    "    #     df.at[idx, 'fifa_score'] = rating\n",
    "    # except NoSuchElementException:\n",
    "    #     df.at[idx, 'fifa_score'] = None\n",
    "\n",
    "driver.quit()\n",
    "\n",
    "df.to_csv('worldcup_players_with_fifa.csv', index=False)\n"
   ]
  },
  {
   "cell_type": "code",
   "execution_count": 55,
   "id": "499d9d62",
   "metadata": {},
   "outputs": [],
   "source": [
    "features = ['속도 / 다이빙',\n",
    "'슛 / 핸들링',\n",
    "'패스 / 킥',\n",
    "'드리블 / 반응속도',\n",
    "'수비 / 속도',\n",
    "'피지컬 / 위치선정']\n",
    "\n",
    "driver = webdriver.Chrome()\n",
    "driver.get(f'https://sofifa.com/?hl=ko-KR')\n",
    "time.sleep(2)\n",
    "element=driver.find_element(By.CSS_SELECTOR,'div.choices.choices-multiple')\n",
    "element.click()\n",
    "search_box=driver.find_element(By.CSS_SELECTOR,'input.choices-input.choices-input-cloned')\n",
    "for i in features:\n",
    "    search_box.send_keys(i)\n",
    "    search_box.send_keys(Keys.ENTER)\n",
    "element = driver.find_element(By.TAG_NAME, \"body\")  # body에 보내도 됨\n",
    "element.send_keys(Keys.ESCAPE)\n",
    "button = driver.find_element(By.XPATH,'//*[@id=\"body\"]/main[1]/aside/form[1]/div[2]/div/button')\n",
    "button.click()"
   ]
  },
  {
   "cell_type": "code",
   "execution_count": 56,
   "id": "1b18ef85",
   "metadata": {},
   "outputs": [],
   "source": [
    "select = Select(driver.find_element(By.ID, 'select-version'))\n",
    "\n",
    "select.select_by_visible_text(\"FIFA 13\")"
   ]
  },
  {
   "cell_type": "code",
   "execution_count": 59,
   "id": "a1468381",
   "metadata": {},
   "outputs": [
    {
     "ename": "ElementClickInterceptedException",
     "evalue": "Message: element click intercepted: Element is not clickable at point (269, 1211)\n  (Session info: chrome=140.0.7339.128); For documentation on this error, please visit: https://www.selenium.dev/documentation/webdriver/troubleshooting/errors#elementclickinterceptedexception\nStacktrace:\n\tGetHandleVerifier [0x0x7ff6808e30f5+79493]\n\tGetHandleVerifier [0x0x7ff6808e3150+79584]\n\t(No symbol) [0x0x7ff6806601ba]\n\t(No symbol) [0x0x7ff6806c01f9]\n\t(No symbol) [0x0x7ff6806bdb7e]\n\t(No symbol) [0x0x7ff6806baac1]\n\t(No symbol) [0x0x7ff6806b99b0]\n\t(No symbol) [0x0x7ff6806aaf58]\n\t(No symbol) [0x0x7ff6806e070a]\n\t(No symbol) [0x0x7ff6806aa7e6]\n\t(No symbol) [0x0x7ff6806e0920]\n\t(No symbol) [0x0x7ff680708b8b]\n\t(No symbol) [0x0x7ff6806e04e3]\n\t(No symbol) [0x0x7ff6806a8e92]\n\t(No symbol) [0x0x7ff6806a9c63]\n\tGetHandleVerifier [0x0x7ff680ba0dbd+2954061]\n\tGetHandleVerifier [0x0x7ff680b9b02a+2930106]\n\tGetHandleVerifier [0x0x7ff680bbb357+3061991]\n\tGetHandleVerifier [0x0x7ff6808fd60e+187294]\n\tGetHandleVerifier [0x0x7ff68090557f+219919]\n\tGetHandleVerifier [0x0x7ff6808ec294+116772]\n\tGetHandleVerifier [0x0x7ff6808ec449+117209]\n\tGetHandleVerifier [0x0x7ff6808d2618+11176]\n\tBaseThreadInitThunk [0x0x7fffe249259d+29]\n\tRtlUserThreadStart [0x0x7fffe422af78+40]\n",
     "output_type": "error",
     "traceback": [
      "\u001b[1;31m---------------------------------------------------------------------------\u001b[0m",
      "\u001b[1;31mElementClickInterceptedException\u001b[0m          Traceback (most recent call last)",
      "Cell \u001b[1;32mIn[59], line 7\u001b[0m\n\u001b[0;32m      5\u001b[0m nation_box\u001b[38;5;241m.\u001b[39msend_keys(Keys\u001b[38;5;241m.\u001b[39mENTER)\n\u001b[0;32m      6\u001b[0m b \u001b[38;5;241m=\u001b[39m driver\u001b[38;5;241m.\u001b[39mfind_element(By\u001b[38;5;241m.\u001b[39mXPATH,\u001b[38;5;124m'\u001b[39m\u001b[38;5;124m//*[@id=\u001b[39m\u001b[38;5;124m\"\u001b[39m\u001b[38;5;124mbody\u001b[39m\u001b[38;5;124m\"\u001b[39m\u001b[38;5;124m]/main[1]/aside/form[2]/div[19]/button\u001b[39m\u001b[38;5;124m'\u001b[39m)\n\u001b[1;32m----> 7\u001b[0m \u001b[43mb\u001b[49m\u001b[38;5;241;43m.\u001b[39;49m\u001b[43mclick\u001b[49m\u001b[43m(\u001b[49m\u001b[43m)\u001b[49m\n",
      "File \u001b[1;32mc:\\Users\\chris\\anaconda3\\envs\\pystudy_env\\Lib\\site-packages\\selenium\\webdriver\\remote\\webelement.py:120\u001b[0m, in \u001b[0;36mWebElement.click\u001b[1;34m(self)\u001b[0m\n\u001b[0;32m    112\u001b[0m \u001b[38;5;28;01mdef\u001b[39;00m \u001b[38;5;21mclick\u001b[39m(\u001b[38;5;28mself\u001b[39m) \u001b[38;5;241m-\u001b[39m\u001b[38;5;241m>\u001b[39m \u001b[38;5;28;01mNone\u001b[39;00m:\n\u001b[0;32m    113\u001b[0m \u001b[38;5;250m    \u001b[39m\u001b[38;5;124;03m\"\"\"Clicks the element.\u001b[39;00m\n\u001b[0;32m    114\u001b[0m \n\u001b[0;32m    115\u001b[0m \u001b[38;5;124;03m    Example:\u001b[39;00m\n\u001b[1;32m   (...)\u001b[0m\n\u001b[0;32m    118\u001b[0m \u001b[38;5;124;03m    >>> element.click()\u001b[39;00m\n\u001b[0;32m    119\u001b[0m \u001b[38;5;124;03m    \"\"\"\u001b[39;00m\n\u001b[1;32m--> 120\u001b[0m     \u001b[38;5;28;43mself\u001b[39;49m\u001b[38;5;241;43m.\u001b[39;49m\u001b[43m_execute\u001b[49m\u001b[43m(\u001b[49m\u001b[43mCommand\u001b[49m\u001b[38;5;241;43m.\u001b[39;49m\u001b[43mCLICK_ELEMENT\u001b[49m\u001b[43m)\u001b[49m\n",
      "File \u001b[1;32mc:\\Users\\chris\\anaconda3\\envs\\pystudy_env\\Lib\\site-packages\\selenium\\webdriver\\remote\\webelement.py:573\u001b[0m, in \u001b[0;36mWebElement._execute\u001b[1;34m(self, command, params)\u001b[0m\n\u001b[0;32m    571\u001b[0m     params \u001b[38;5;241m=\u001b[39m {}\n\u001b[0;32m    572\u001b[0m params[\u001b[38;5;124m\"\u001b[39m\u001b[38;5;124mid\u001b[39m\u001b[38;5;124m\"\u001b[39m] \u001b[38;5;241m=\u001b[39m \u001b[38;5;28mself\u001b[39m\u001b[38;5;241m.\u001b[39m_id\n\u001b[1;32m--> 573\u001b[0m \u001b[38;5;28;01mreturn\u001b[39;00m \u001b[38;5;28;43mself\u001b[39;49m\u001b[38;5;241;43m.\u001b[39;49m\u001b[43m_parent\u001b[49m\u001b[38;5;241;43m.\u001b[39;49m\u001b[43mexecute\u001b[49m\u001b[43m(\u001b[49m\u001b[43mcommand\u001b[49m\u001b[43m,\u001b[49m\u001b[43m \u001b[49m\u001b[43mparams\u001b[49m\u001b[43m)\u001b[49m\n",
      "File \u001b[1;32mc:\\Users\\chris\\anaconda3\\envs\\pystudy_env\\Lib\\site-packages\\selenium\\webdriver\\remote\\webdriver.py:458\u001b[0m, in \u001b[0;36mWebDriver.execute\u001b[1;34m(self, driver_command, params)\u001b[0m\n\u001b[0;32m    455\u001b[0m response \u001b[38;5;241m=\u001b[39m cast(RemoteConnection, \u001b[38;5;28mself\u001b[39m\u001b[38;5;241m.\u001b[39mcommand_executor)\u001b[38;5;241m.\u001b[39mexecute(driver_command, params)\n\u001b[0;32m    457\u001b[0m \u001b[38;5;28;01mif\u001b[39;00m response:\n\u001b[1;32m--> 458\u001b[0m     \u001b[38;5;28;43mself\u001b[39;49m\u001b[38;5;241;43m.\u001b[39;49m\u001b[43merror_handler\u001b[49m\u001b[38;5;241;43m.\u001b[39;49m\u001b[43mcheck_response\u001b[49m\u001b[43m(\u001b[49m\u001b[43mresponse\u001b[49m\u001b[43m)\u001b[49m\n\u001b[0;32m    459\u001b[0m     response[\u001b[38;5;124m\"\u001b[39m\u001b[38;5;124mvalue\u001b[39m\u001b[38;5;124m\"\u001b[39m] \u001b[38;5;241m=\u001b[39m \u001b[38;5;28mself\u001b[39m\u001b[38;5;241m.\u001b[39m_unwrap_value(response\u001b[38;5;241m.\u001b[39mget(\u001b[38;5;124m\"\u001b[39m\u001b[38;5;124mvalue\u001b[39m\u001b[38;5;124m\"\u001b[39m, \u001b[38;5;28;01mNone\u001b[39;00m))\n\u001b[0;32m    460\u001b[0m     \u001b[38;5;28;01mreturn\u001b[39;00m response\n",
      "File \u001b[1;32mc:\\Users\\chris\\anaconda3\\envs\\pystudy_env\\Lib\\site-packages\\selenium\\webdriver\\remote\\errorhandler.py:232\u001b[0m, in \u001b[0;36mErrorHandler.check_response\u001b[1;34m(self, response)\u001b[0m\n\u001b[0;32m    230\u001b[0m         alert_text \u001b[38;5;241m=\u001b[39m value[\u001b[38;5;124m\"\u001b[39m\u001b[38;5;124malert\u001b[39m\u001b[38;5;124m\"\u001b[39m]\u001b[38;5;241m.\u001b[39mget(\u001b[38;5;124m\"\u001b[39m\u001b[38;5;124mtext\u001b[39m\u001b[38;5;124m\"\u001b[39m)\n\u001b[0;32m    231\u001b[0m     \u001b[38;5;28;01mraise\u001b[39;00m exception_class(message, screen, stacktrace, alert_text)  \u001b[38;5;66;03m# type: ignore[call-arg]  # mypy is not smart enough here\u001b[39;00m\n\u001b[1;32m--> 232\u001b[0m \u001b[38;5;28;01mraise\u001b[39;00m exception_class(message, screen, stacktrace)\n",
      "\u001b[1;31mElementClickInterceptedException\u001b[0m: Message: element click intercepted: Element is not clickable at point (269, 1211)\n  (Session info: chrome=140.0.7339.128); For documentation on this error, please visit: https://www.selenium.dev/documentation/webdriver/troubleshooting/errors#elementclickinterceptedexception\nStacktrace:\n\tGetHandleVerifier [0x0x7ff6808e30f5+79493]\n\tGetHandleVerifier [0x0x7ff6808e3150+79584]\n\t(No symbol) [0x0x7ff6806601ba]\n\t(No symbol) [0x0x7ff6806c01f9]\n\t(No symbol) [0x0x7ff6806bdb7e]\n\t(No symbol) [0x0x7ff6806baac1]\n\t(No symbol) [0x0x7ff6806b99b0]\n\t(No symbol) [0x0x7ff6806aaf58]\n\t(No symbol) [0x0x7ff6806e070a]\n\t(No symbol) [0x0x7ff6806aa7e6]\n\t(No symbol) [0x0x7ff6806e0920]\n\t(No symbol) [0x0x7ff680708b8b]\n\t(No symbol) [0x0x7ff6806e04e3]\n\t(No symbol) [0x0x7ff6806a8e92]\n\t(No symbol) [0x0x7ff6806a9c63]\n\tGetHandleVerifier [0x0x7ff680ba0dbd+2954061]\n\tGetHandleVerifier [0x0x7ff680b9b02a+2930106]\n\tGetHandleVerifier [0x0x7ff680bbb357+3061991]\n\tGetHandleVerifier [0x0x7ff6808fd60e+187294]\n\tGetHandleVerifier [0x0x7ff68090557f+219919]\n\tGetHandleVerifier [0x0x7ff6808ec294+116772]\n\tGetHandleVerifier [0x0x7ff6808ec449+117209]\n\tGetHandleVerifier [0x0x7ff6808d2618+11176]\n\tBaseThreadInitThunk [0x0x7fffe249259d+29]\n\tRtlUserThreadStart [0x0x7fffe422af78+40]\n"
     ]
    }
   ],
   "source": [
    "name_box=driver.find_element(By.XPATH,'//*[@id=\"body\"]/main[1]/aside/form[2]/div[1]/input') \n",
    "name_box.send_keys('Fred')\n",
    "nation_box=driver.find_element(By.XPATH,'//*[@id=\"body\"]/main[1]/aside/form[2]/div[4]/div[1]/input')\n",
    "nation_box.send_keys('Brazil')\n",
    "nation_box.send_keys(Keys.ENTER)\n",
    "b = driver.find_element(By.XPATH,'//*[@id=\"body\"]/main[1]/aside/form[2]/div[19]/button')\n",
    "b.click()"
   ]
  },
  {
   "cell_type": "code",
   "execution_count": 54,
   "id": "1c3c1cd6",
   "metadata": {},
   "outputs": [],
   "source": [
    "driver.quit()"
   ]
  },
  {
   "cell_type": "code",
   "execution_count": 2,
   "id": "2c337df2",
   "metadata": {},
   "outputs": [],
   "source": [
    "import pandas as pd"
   ]
  },
  {
   "cell_type": "code",
   "execution_count": 31,
   "id": "cc129dd4",
   "metadata": {},
   "outputs": [],
   "source": [
    "df1 = pd.read_csv('./data/21.csv',sep=';')\n",
    "df2 = pd.read_csv('./data/24.csv')"
   ]
  },
  {
   "cell_type": "code",
   "execution_count": 35,
   "id": "f573192b",
   "metadata": {},
   "outputs": [
    {
     "data": {
      "text/plain": [
       "14832    80\n",
       "Name: shot_power, dtype: int64"
      ]
     },
     "execution_count": 35,
     "metadata": {},
     "output_type": "execute_result"
    }
   ],
   "source": [
    "df1[df1['Fullname']=='Neymar Jr']['shot_power']\n"
   ]
  },
  {
   "cell_type": "code",
   "execution_count": 34,
   "id": "b8f4573a",
   "metadata": {},
   "outputs": [
    {
     "data": {
      "text/plain": [
       "12    83\n",
       "Name: Shooting, dtype: int64"
      ]
     },
     "execution_count": 34,
     "metadata": {},
     "output_type": "execute_result"
    }
   ],
   "source": [
    "df2[df2['Name']=='Neymar Jr']['Shooting']"
   ]
  },
  {
   "cell_type": "code",
   "execution_count": 7,
   "id": "e3166cec",
   "metadata": {},
   "outputs": [
    {
     "data": {
      "text/plain": [
       "Index(['id', 'Fullname', 'current_rating', 'potential_rating', 'height',\n",
       "       'weight', 'preferred_foot', 'birth_date', 'preferred_positions',\n",
       "       'work_rate', 'weak_foot', 'skill_moves', 'value', 'wage',\n",
       "       'ball_control', 'dribbling', 'marking', 'tackling', 'aggression',\n",
       "       'composure', 'reaction', 'crossing', 'short_pass', 'long_pass',\n",
       "       'acceleration', 'stamina', 'strength', 'spring_speed', 'heading',\n",
       "       'shot_power', 'finishing', 'long_shots', 'FK_Acc.', 'reflexes',\n",
       "       'handling', 'gk_positioning', 'gk_diving'],\n",
       "      dtype='object')"
      ]
     },
     "execution_count": 7,
     "metadata": {},
     "output_type": "execute_result"
    }
   ],
   "source": [
    "df1.columns"
   ]
  },
  {
   "cell_type": "code",
   "execution_count": 30,
   "id": "ecabf56d",
   "metadata": {},
   "outputs": [
    {
     "data": {
      "text/plain": [
       "count    10912.000000\n",
       "mean        15.324963\n",
       "std         17.059643\n",
       "min          1.000000\n",
       "25%          7.000000\n",
       "50%         10.000000\n",
       "75%         13.000000\n",
       "max         96.000000\n",
       "Name: gk_positioning, dtype: float64"
      ]
     },
     "execution_count": 30,
     "metadata": {},
     "output_type": "execute_result"
    }
   ],
   "source": [
    "df2['Ball'].describe()\n",
    "df1['gk_positioning'].describe()"
   ]
  },
  {
   "cell_type": "code",
   "execution_count": 8,
   "id": "93457d16",
   "metadata": {},
   "outputs": [
    {
     "data": {
      "text/plain": [
       "Index(['Unnamed: 0', 'Name', 'Nation', 'Club', 'Position', 'Age', 'Overall',\n",
       "       'Pace', 'Shooting', 'Passing', 'Dribbling', 'Defending', 'Physicality',\n",
       "       'Acceleration', 'Sprint', 'Positioning', 'Finishing', 'Shot', 'Long',\n",
       "       'Volleys', 'Penalties', 'Vision', 'Crossing', 'Free', 'Curve',\n",
       "       'Agility', 'Balance', 'Reactions', 'Ball', 'Composure', 'Interceptions',\n",
       "       'Heading', 'Def', 'Standing', 'Sliding', 'Jumping', 'Stamina',\n",
       "       'Strength', 'Aggression', 'Att work rate', 'Def work rate',\n",
       "       'Preferred foot', 'Weak foot', 'Skill moves', 'URL', 'Gender', 'GK'],\n",
       "      dtype='object')"
      ]
     },
     "execution_count": 8,
     "metadata": {},
     "output_type": "execute_result"
    }
   ],
   "source": [
    "df2.columns"
   ]
  },
  {
   "cell_type": "markdown",
   "id": "2cd64a1a",
   "metadata": {},
   "source": [
    "current_rating == Overall\n",
    "dribbling == 'Dribbling'\n",
    "composure == 'Composure'\n",
    "'short_pass', 'long_pass' 평균 ='Passing'\n",
    "'stamina' == 'Stamina'\n",
    "'strength' == 'Strength'\n",
    "'marking', 'tackling' 평균 = 'Defending'\n",
    "'crossing' = 'Crossing'\n",
    "'acceleration' ==  'Acceleration'\n",
    "'reaction' == 'Reactions'\n",
    "'ball_control' = 'Ball'\n",
    "'gk_positioning', 'gk_diving' , 'GK'\n",
    "'spring_speed' = 'Sprint'\n",
    "'shot_power' = 'Shooting'"
   ]
  }
 ],
 "metadata": {
  "kernelspec": {
   "display_name": "pystudy_env",
   "language": "python",
   "name": "python3"
  },
  "language_info": {
   "codemirror_mode": {
    "name": "ipython",
    "version": 3
   },
   "file_extension": ".py",
   "mimetype": "text/x-python",
   "name": "python",
   "nbconvert_exporter": "python",
   "pygments_lexer": "ipython3",
   "version": "3.12.11"
  }
 },
 "nbformat": 4,
 "nbformat_minor": 5
}
